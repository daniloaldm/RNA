{
 "cells": [
  {
   "cell_type": "markdown",
   "metadata": {},
   "source": [
    "# Perceptron\n",
    "\n",
    "Perceptron é uma rede neural de camada única e um Perceptron de várias camadas é chamado de Rede Neural Artificial. O Perceptron é um classificador linear (binário). Além disso, é usado na aprendizagem supervisionada e pode ser usado para classificar os dados de entrada fornecidos.\n",
    "\n",
    "Considerando o classificador Perceptron discutido na disciplina, realizamos o treinamento do Perceptron e plotamos os dados para cada um dos <a href=\"https://github.com/daniloaldm/RNA/tree/main/atv1/dados\">datasets fornecidos</a>, que possuiam amostras de treinamento para problemas de classificação binária com X = R² e Y = {−1, 1}.\n",
    "\n",
    "Os dados estão na forma de\n",
    "\n",
    "um arquivo de texto com três colunas:\n",
    "\n",
    "1. Coluna 1: atributo numérico 1 (x1);\n",
    "2. Coluna 2: atributo numérico 2 (x2);\n",
    "3. Coluna 3: classe (y).\n"
   ]
  },
  {
   "cell_type": "markdown",
   "metadata": {},
   "source": [
    "### Bibliotecas"
   ]
  },
  {
   "cell_type": "code",
   "execution_count": 13,
   "metadata": {},
   "outputs": [],
   "source": [
    "import math\n",
    "import pandas as pd\n",
    "import matplotlib.pyplot as plt"
   ]
  },
  {
   "cell_type": "markdown",
   "metadata": {},
   "source": [
    "### Arquivo com o dataset"
   ]
  },
  {
   "cell_type": "code",
   "execution_count": 14,
   "metadata": {},
   "outputs": [],
   "source": [
    "FILE = \"dados/data_xor.dat\""
   ]
  },
  {
   "cell_type": "markdown",
   "metadata": {},
   "source": [
    "### Funções de ativação"
   ]
  },
  {
   "cell_type": "code",
   "execution_count": 15,
   "metadata": {},
   "outputs": [],
   "source": [
    "def sign(alfa):\n",
    "    if alfa <= 0:\n",
    "        return -1\n",
    "    else:\n",
    "        return 1\n",
    "\n",
    "def logistic(alfa):\n",
    "    return 1 / 1 + math.exp(-alfa)\n",
    "\n",
    "def tanh(alfa):\n",
    "    return (math.exp(2 * alfa) - 1) / (math.exp(2 * alfa) + 1)\n",
    "\n",
    "def relu(alfa):\n",
    "    if alfa <= 0:\n",
    "        return 0\n",
    "    else:\n",
    "        return alfa"
   ]
  },
  {
   "cell_type": "markdown",
   "metadata": {},
   "source": [
    "### Funções auxiliares:"
   ]
  },
  {
   "cell_type": "markdown",
   "metadata": {},
   "source": [
    "##### Função que calcula o produto interno de dois vetores"
   ]
  },
  {
   "cell_type": "code",
   "execution_count": 16,
   "metadata": {},
   "outputs": [],
   "source": [
    "def inner_product(v1, v2):\n",
    "    result = 0\n",
    "    for i in range(len(v1)):\n",
    "        result += float(v1[i]) * float(v2[i])\n",
    "    return result"
   ]
  },
  {
   "cell_type": "markdown",
   "metadata": {},
   "source": [
    "##### Função que multiplica um elemento por um vetor"
   ]
  },
  {
   "cell_type": "code",
   "execution_count": 17,
   "metadata": {},
   "outputs": [],
   "source": [
    "def product(e, v):\n",
    "    result = []\n",
    "    for i in range(len(v)):\n",
    "        x = float(e) * float(v[i])\n",
    "        result.append(x)\n",
    "    return result"
   ]
  },
  {
   "cell_type": "markdown",
   "metadata": {},
   "source": [
    "##### Função que soma dois vetores"
   ]
  },
  {
   "cell_type": "code",
   "execution_count": 18,
   "metadata": {},
   "outputs": [],
   "source": [
    "def sum(v1, v2):\n",
    "    result = []\n",
    "    for i in range(len(v1)):\n",
    "        x = float(v1[i]) + float(v2[i])\n",
    "        result.append(x)\n",
    "    return result"
   ]
  },
  {
   "cell_type": "markdown",
   "metadata": {},
   "source": [
    "##### Função que calcula a porcentagem de similaridade entre dois vetores "
   ]
  },
  {
   "cell_type": "code",
   "execution_count": 19,
   "metadata": {},
   "outputs": [],
   "source": [
    "def score(v1, v2):\n",
    "    hits = 0\n",
    "    for i in range(len(v1)):\n",
    "        if(float(v1[i]) == float(v2[i])):\n",
    "            hits += 1\n",
    "    return hits/len(v1)"
   ]
  },
  {
   "cell_type": "markdown",
   "metadata": {},
   "source": [
    "##### Insere uma coluna de values no início da matriz"
   ]
  },
  {
   "cell_type": "code",
   "execution_count": 20,
   "metadata": {},
   "outputs": [],
   "source": [
    "def add_value_column_matriz(matriz, value):\n",
    "    for i in range(len(matriz)):\n",
    "        matriz[i].insert(0, value)"
   ]
  },
  {
   "cell_type": "markdown",
   "metadata": {},
   "source": [
    "### Coletando os dados de entada X e y"
   ]
  },
  {
   "cell_type": "code",
   "execution_count": 21,
   "metadata": {},
   "outputs": [],
   "source": [
    "X = []\n",
    "y = []\n",
    "\n",
    "arq_address = FILE\n",
    "f = open(arq_address,\"r\")\n",
    "row = f.readline().replace('\\n','')\n",
    "while row:\n",
    "    columns = row.split(\" \")\n",
    "    # guardando todas as colunas, menos a última (predição)\n",
    "    X.append(columns[:len(columns) - 1])\n",
    "    # guardando a última coluna (predição)\n",
    "    y.append(columns[-1])\n",
    "    row = f.readline().replace('\\n', '')\n",
    "f.close()\n",
    "\n",
    "# adicionando coluna de 1's em X (como a primeira coluna)\n",
    "add_value_column_matriz(X, 1)"
   ]
  },
  {
   "cell_type": "markdown",
   "metadata": {},
   "source": [
    "### Pesos de conexão"
   ]
  },
  {
   "cell_type": "code",
   "execution_count": 22,
   "metadata": {},
   "outputs": [],
   "source": [
    "W = []\n",
    "bies = 0\n",
    "# para cada coluna (feature), adiciono pesos Wi\n",
    "for i in range(len(X[0])):\n",
    "    if(i == 0):\n",
    "        W.append(bies) \n",
    "    else:\n",
    "        W.append(0) # pode ser randomizado (intervalor de -1 até 1, por exemplo)"
   ]
  },
  {
   "cell_type": "markdown",
   "metadata": {},
   "source": [
    "### Efetuando o treinamento do Perceptron"
   ]
  },
  {
   "cell_type": "markdown",
   "metadata": {},
   "source": [
    "##### Função de treinamento do perceptron:"
   ]
  },
  {
   "cell_type": "markdown",
   "metadata": {},
   "source": [
    "### <img width=\"600\" src=\"imagens/algoritmo_perceptron.jpeg\">"
   ]
  },
  {
   "cell_type": "markdown",
   "metadata": {},
   "source": [
    "##### Treinamento do perceptron no código:"
   ]
  },
  {
   "cell_type": "code",
   "execution_count": 23,
   "metadata": {},
   "outputs": [],
   "source": [
    "# predições treinadas\n",
    "y_train = []\n",
    "# número de iterações t do treinamento\n",
    "T = 200\n",
    "for t in range(T):\n",
    "    # guardara as predições em treinamento\n",
    "    y_training = []\n",
    "\n",
    "    # percorre todas as predições (vetor y)\n",
    "    for n in range(len(y)):\n",
    "        # calculando a predição do perceptron aplicando a função de ativação\n",
    "        yn = sign(inner_product(W, X[n]))\n",
    "\n",
    "        # averiguando se houve erro de classificação para aplicar a correção\n",
    "        if y[n] != yn:\n",
    "            W = sum(W, product(y[n], X[n]))\n",
    "\n",
    "        y_training.append(yn)\n",
    "    \n",
    "    # atualizando as predições\n",
    "    y_train = y_training\n",
    "# --------------------------------------------------------------------------"
   ]
  },
  {
   "cell_type": "markdown",
   "metadata": {},
   "source": [
    "### Plotagem da superfície de decisão (dados + hiperplano)"
   ]
  },
  {
   "cell_type": "code",
   "execution_count": 24,
   "metadata": {},
   "outputs": [
    {
     "data": {
      "image/png": "[encoded data removed]",
      "text/plain": [
       "<Figure size 432x288 with 1 Axes>"
      ]
     },
     "metadata": {
      "needs_background": "light"
     },
     "output_type": "display_data"
    }
   ],
   "source": [
    "data = pd.read_csv(FILE, delimiter=\"\\s+\", header=None, engine='python')\n",
    "X = data.iloc[:, :2].values\n",
    "y = data.iloc[:, -1].values\n",
    "\n",
    "x1 = X[:, 0]\n",
    "x2 = X[:, 1]\n",
    "\n",
    "plt.scatter(x1, x2, c=y_train)\n",
    "plt.xlabel('X1')\n",
    "plt.ylabel('X2')\n",
    "plt.title('Perceptron X1, X2')\n",
    "plt.show()"
   ]
  },
  {
   "cell_type": "markdown",
   "metadata": {},
   "source": [
    "### Acerto(%) das predições treinadas em relação as reais usadas para o treino"
   ]
  },
  {
   "cell_type": "code",
   "execution_count": 25,
   "metadata": {},
   "outputs": [
    {
     "name": "stdout",
     "output_type": "stream",
     "text": [
      "score: 0.5\n"
     ]
    }
   ],
   "source": [
    "print(\"score:\", score(y_train, y))"
   ]
  }
 ],
 "metadata": {
  "kernelspec": {
   "display_name": "Python 3",
   "language": "python",
   "name": "python3"
  },
  "language_info": {
   "codemirror_mode": {
    "name": "ipython",
    "version": 3
   },
   "file_extension": ".py",
   "mimetype": "text/x-python",
   "name": "python",
   "nbconvert_exporter": "python",
   "pygments_lexer": "ipython3",
   "version": "3.8.5"
  }
 },
 "nbformat": 4,
 "nbformat_minor": 4
}
